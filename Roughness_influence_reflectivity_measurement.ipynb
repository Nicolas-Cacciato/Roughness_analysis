{
  "nbformat": 4,
  "nbformat_minor": 0,
  "metadata": {
    "colab": {
      "name": "Rugosity_influence_reflectivity_measurement.ipynb",
      "provenance": [],
      "collapsed_sections": []
    },
    "kernelspec": {
      "name": "python3",
      "display_name": "Python 3"
    },
    "language_info": {
      "name": "python"
    }
  },
  "cells": [
    {
      "cell_type": "code",
      "metadata": {
        "id": "5dNUHrH9O4zZ"
      },
      "source": [
        "import numpy as np\n",
        "from scipy import interpolate\n",
        "from scipy import optimize\n",
        "import matplotlib.pyplot as plt\n",
        "import seaborn as sns\n",
        "from tqdm import tqdm"
      ],
      "execution_count": 60,
      "outputs": []
    },
    {
      "cell_type": "markdown",
      "source": [
        "# **Import Data**"
      ],
      "metadata": {
        "id": "1_6qBcC4wKKC"
      }
    },
    {
      "cell_type": "code",
      "metadata": {
        "id": "8IX7fIRbWDj4"
      },
      "source": [
        "data1, data2 = np.loadtxt('sicr.nk') , np.loadtxt('sio2.nk')   #import des indice de réfraction,longueur d'onde etc \n",
        "#data3 = np.loadtxt('ambiant.txt')  # si pas l'air\n",
        "\n",
        "x1, y1, z1 = data1 [:,0], data1 [:,1], data1 [:,2]  #substrat\n",
        "x2, y2, z2 = data2 [:,0], data2 [:,1], data2 [:,2]  #film\n",
        "#x3, y3, z3 = data3 [:,0], data3 [:,1], data3 [:,2]  #ambiant si pas air"
      ],
      "execution_count": 2,
      "outputs": []
    },
    {
      "cell_type": "markdown",
      "source": [
        "# **Fonctions utilisées**"
      ],
      "metadata": {
        "id": "kvmKOcpIv8YL"
      }
    },
    {
      "cell_type": "code",
      "metadata": {
        "id": "VZKVtep5bhkk"
      },
      "source": [
        "def n_air(long_onde):   # ref : Ulf’s cyber attic - thin film toolbox\n",
        "    lambdas = long_onde\n",
        "    pres = 101325\n",
        "    temp = 20\n",
        "    relh = 0\n",
        "    A = 8342.54\n",
        "    B = 2406147.0\n",
        "    C = 15998.0\n",
        "    D = 96095.43\n",
        "    E = 0.601\n",
        "    F = 0.00972\n",
        "    G = 0.003661\n",
        "    s2 = (1 / lambdas)**2\n",
        "    ns = 1.0 + 1.0e-8 * (A + B/(130.0 - s2) + C/(38.9 - s2))\n",
        "    X = (1.0 + 1.0e-8 * pres * (E - F * temp)) / (1.0 + G * temp)\n",
        "    ntp = 1.0 + pres * (ns - 1.0) * X / D\n",
        "    pv = 0.01 * relh * water_svp(temp)\n",
        "    ri = ntp - (292.75e-10/(temp + 273.15)) * (3.7345 - 0.0401 * s2) * pv\n",
        "    return ri\n",
        "\n",
        "\n",
        "def water_svp(temp):  # ref : Ulf’s cyber attic - thin film toolbox\n",
        "    T = temp + 273.15\n",
        "    K1 = 1.16705214528E+03\n",
        "    K2 = -7.24213167032E+05\n",
        "    K3 = -1.70738469401E+01\n",
        "    K4 = 1.20208247025E+04\n",
        "    K5 = -3.23255503223E+06\n",
        "    K6 = 1.49151086135E+01\n",
        "    K7 = -4.82326573616E+03\n",
        "    K8 = 4.05113405421E+05\n",
        "    K9 = -2.38555575678E-01\n",
        "    K10 = 6.50175348448E+02\n",
        "    A1 = -13.928169\n",
        "    A2 = 34.7078238\n",
        "    A3 = 661.657\n",
        "    if temp > 0:\n",
        "        omega = T + K9 / (T - K10)\n",
        "        A = omega * (omega + K1) + K2\n",
        "        B = omega * (omega * K3 + K4) + K5\n",
        "        C = omega * (omega * K6 + K7) + K8\n",
        "        X = np.sqrt(B**2 - 4 * A * C) - B\n",
        "        svp = 1.0e6 * (2 * C / X)**4\n",
        "    else:\n",
        "        theta = T / 273.16\n",
        "        Y = A1 * (1 - theta**-1.5) + A2 * (1 - theta**-1.25)\n",
        "        svp = A3 * np.exp(Y)\n",
        "    return svp\n",
        "\n",
        "\n",
        "def gen2D(N, rL, h, clx):  # génération de la surface à 2D\n",
        "    X, Y = np.meshgrid(x, y)\n",
        "    np.random.seed(666)\n",
        "    Z = h * np.random.randn(N, N)\n",
        "    F = np.exp(-((X**2 + Y**2)/((clx**2)/2)))\n",
        "    f = 2 / np.sqrt(np.pi) * rL/N/clx * \\\n",
        "        np.fft.ifft2((np.fft.fft2(Z)*np.fft.fft2(F)))\n",
        "    return f\n",
        "\n",
        "\n",
        "# calcul de réfléctivité (modèle substrat/film/ambiant)\n",
        "def reflectivity(long_onde, ind_refracrsub, ind_refracrfilm, ind_refracrambiant, dfilm):\n",
        "    x = long_onde  # in micrometers\n",
        "    n0 = ind_refracrambiant\n",
        "    n1 = ind_refracrfilm\n",
        "    n2 = ind_refracrsub\n",
        "    thick = dfilm\n",
        "    r12 = (n2-n1)/(n2+n1)\n",
        "    r01 = (n1-n0)/(n1+n0)\n",
        "    beta = 2*np.pi/x*thick*n1\n",
        "    r = (r01+r12*np.exp(-2j*beta))/(1+r01*r12*np.exp(-2j*beta))\n",
        "    rr = r*r.conjugate()\n",
        "    return rr\n",
        "\n",
        "\n",
        "def reflectivity2(long_onde, dfilm):  # Même fonction mais modifiée en array pour le fit\n",
        "    x = np.array(long_onde)  # in micrometers\n",
        "    n0 = np.array(ind_refracair)\n",
        "    n1 = np.array(ind_refracrfilm)\n",
        "    n2 = np.array(ind_refracrsub)\n",
        "    thick = dfilm\n",
        "    r12 = (n2-n1)/(n2+n1)\n",
        "    r01 = (n1-n0)/(n1+n0)\n",
        "    beta = 2*np.pi/x*thick*n1\n",
        "    r = (r01+r12*np.exp(-2j*beta))/(1+r01*r12*np.exp(-2j*beta))\n",
        "    rr = np.real(r*r.conjugate())\n",
        "    return rr\n",
        "\n",
        "\n",
        "def reflectivityEMA(long_onde, dfilm, dema):\n",
        "    x = np.array(long_onde)  # in micrometers\n",
        "    n0 = np.array(ind_refracair)\n",
        "    n1 = np.array(ind_ema)\n",
        "    n2 = np.array(ind_refracrfilm)\n",
        "    n3 = np.array(ind_refracrsub)\n",
        "    thickfilm = dfilm\n",
        "    thickema = dema\n",
        "    r12 = (n2-n1)/(n2+n1)\n",
        "    r23 = (n3-n2)/(n3+n2)\n",
        "    r01 = (n1-n0)/(n1+n0)\n",
        "    beta1 = 2*np.pi/x*thickema*n1\n",
        "    beta2 = 2*np.pi/x*thickfilm*n2\n",
        "    r123 = (r12 + r23*np.exp(-2j*beta2))/(1 + r12*r23*np.exp(-2j*beta2))\n",
        "    r = ((r01 + r123*np.exp(-2j*beta1)))/(1 + r01*r123*np.exp(-2j*beta1))\n",
        "    rr = np.real(r*r.conjugate())\n",
        "    return rr\n",
        "\n",
        "\n",
        "def ncalema(nambiant, nfilm, fv):\n",
        "    n0 = np.array(nambiant)\n",
        "    n1 = np.array(nfilm)\n",
        "    gamma = (1 - fv)*(n1**2 - 2*n0**2) + fv * ((n0**2) - 2*(n1**2))\n",
        "    p1 = (gamma**2 + 8*(n0**2 * n1**2))**0.5\n",
        "    n = (p1-gamma) ** 0.5\n",
        "    nn = n/2\n",
        "    return nn"
      ],
      "execution_count": 61,
      "outputs": []
    },
    {
      "cell_type": "markdown",
      "source": [
        "# **Interpolation des indices de réfractions**"
      ],
      "metadata": {
        "id": "KJNv-p7twBiH"
      }
    },
    {
      "cell_type": "code",
      "metadata": {
        "id": "7JHJZTHwhUsk"
      },
      "source": [
        "f1 = interpolate.interp1d(x1, y1)\n",
        "f1i = interpolate.interp1d(x1, z1)\n",
        "f2 = interpolate.interp1d(x2, y2)\n",
        "f2i = interpolate.interp1d(x2, z2)  # interpolation (que réel)\n",
        "# f3 = interpolate.interp1d(x3, y3) #si pas air"
      ],
      "execution_count": 62,
      "outputs": []
    },
    {
      "cell_type": "code",
      "metadata": {
        "id": "rIY_qhzKhWyO"
      },
      "source": [
        "long_onde = np.linspace(0.4, 1.0, 61)  # spectre de longueur d'onde\n",
        "\n",
        "ind_refracrsub = []\n",
        "ind_refracrfilm = []\n",
        "ind_refracair = []\n",
        "\n",
        "for i in range(len(long_onde)):  # obtenir les indices de réfractions\n",
        "    ind_refracrsub.append(complex(f1(long_onde[i]), f1i(long_onde[i])))\n",
        "    ind_refracrfilm.append(complex(f2(long_onde[i]), f2i(long_onde[i])))\n",
        "    ind_refracair.append(n_air(long_onde[i]))\n",
        "\n",
        "\n",
        "# nombre = len(long_onde)\n"
      ],
      "execution_count": 63,
      "outputs": []
    },
    {
      "cell_type": "code",
      "metadata": {
        "colab": {
          "base_uri": "https://localhost:8080/",
          "height": 300
        },
        "id": "vw4d4VoRhwny",
        "outputId": "d3944eb1-1ec6-44a4-ab1b-1beb17fa0b2a"
      },
      "source": [
        "plt.plot(x1, y1, 'o', long_onde, ind_refracrsub, '-')\n",
        "plt.show()"
      ],
      "execution_count": 64,
      "outputs": [
        {
          "output_type": "stream",
          "name": "stderr",
          "text": [
            "/usr/local/lib/python3.7/dist-packages/matplotlib/cbook/__init__.py:1317: ComplexWarning: Casting complex values to real discards the imaginary part\n",
            "  return np.asarray(x, float)\n"
          ]
        },
        {
          "output_type": "display_data",
          "data": {
            "text/plain": [
              "<Figure size 432x288 with 1 Axes>"
            ],
            "image/png": "[encoded data removed]"
          },
          "metadata": {
            "needs_background": "light"
          }
        }
      ]
    },
    {
      "cell_type": "markdown",
      "source": [
        "# **Paramètre + génération d'une surface**"
      ],
      "metadata": {
        "id": "Ec-VMG9_wOu6"
      }
    },
    {
      "cell_type": "code",
      "metadata": {
        "id": "C5OHl0W1x4EX"
      },
      "source": [
        "N = 128  # nombre de points\n",
        "rL = 128                # longueur de la surface\n",
        "h = 0.025               # rugosité (rms)\n",
        "clx = 25                # longueur de corrélation\n",
        "cly = 64\n",
        "x = np.linspace(-rL/2, rL/2, N)  # coordonnée\n",
        "y = np.linspace(-rL/2, rL/2, N)"
      ],
      "execution_count": 29,
      "outputs": []
    },
    {
      "cell_type": "code",
      "metadata": {
        "id": "p3BzLQoVDOG7"
      },
      "source": [
        "surf = np.real(gen2D(N, rL, h, clx))\n",
        "thickness = 0.3\n",
        "surfall = surf + np.ones((N, N))*thickness  # épaisseur moyenne + fluctuation"
      ],
      "execution_count": 30,
      "outputs": []
    },
    {
      "cell_type": "code",
      "metadata": {
        "id": "CkW-2ypwE_MV"
      },
      "source": [
        "surfalllist = []  # transformation en liste pour l'histogramme\n",
        "for list_ep in surfall:\n",
        "    for ep in list_ep:\n",
        "        surfalllist.append(ep)"
      ],
      "execution_count": 31,
      "outputs": []
    },
    {
      "cell_type": "code",
      "metadata": {
        "colab": {
          "base_uri": "https://localhost:8080/",
          "height": 313
        },
        "id": "Bw6Pa4cQFCe_",
        "outputId": "842ad07a-2d3a-4d8a-d062-50a9e6bea884"
      },
      "source": [
        "histo = sns.histplot(surfalllist, stat=\"probability\")\n",
        "histo.set_title('Histogramme des épaisseurs ')\n",
        "histo.set_xlabel(\"épaisseur(µm)\")"
      ],
      "execution_count": 32,
      "outputs": [
        {
          "output_type": "execute_result",
          "data": {
            "text/plain": [
              "Text(0.5, 0, 'épaisseur(µm)')"
            ]
          },
          "metadata": {},
          "execution_count": 32
        },
        {
          "output_type": "display_data",
          "data": {
            "text/plain": [
              "<Figure size 432x288 with 1 Axes>"
            ],
            "image/png": "[encoded data removed]"
          },
          "metadata": {
            "needs_background": "light"
          }
        }
      ]
    },
    {
      "cell_type": "code",
      "metadata": {
        "colab": {
          "base_uri": "https://localhost:8080/",
          "height": 295
        },
        "id": "gAZKPHoPy94x",
        "outputId": "56e8eaee-b838-4836-a872-373d1b420c22"
      },
      "source": [
        "plt.pcolor(x, y, surfall)\n",
        "plt.colorbar()\n",
        "plt.xlabel('x (µm)')\n",
        "plt.ylabel('x (µm)')\n",
        "plt.title('Image 2D de la surface')\n",
        "plt.show()"
      ],
      "execution_count": 35,
      "outputs": [
        {
          "output_type": "display_data",
          "data": {
            "text/plain": [
              "<Figure size 432x288 with 2 Axes>"
            ],
            "image/png": "[encoded data removed]"
          },
          "metadata": {
            "needs_background": "light"
          }
        }
      ]
    },
    {
      "cell_type": "markdown",
      "metadata": {
        "id": "pZa6eebP8uuK"
      },
      "source": [
        "# **Analyse inversion en fonction de la longueur de corrélation et de la rugosité (rms)**\n",
        "\n",
        "\n",
        "\n"
      ]
    },
    {
      "cell_type": "code",
      "metadata": {
        "id": "EN3WEAn0882q"
      },
      "source": [
        "N = 50  # nombre de points\n",
        "rL = 50                  # longueur de la surface\n",
        "h = np.linspace(0.00025/2, 0.025, 32)                # rugosité (rms)\n",
        "clx = np.linspace(1, 16, 32)                         # longueur de corrélation\n",
        "cly = 30\n",
        "x = np.linspace(-rL/2, rL/2, N)  # coordonnée\n",
        "y = np.linspace(-rL/2, rL/2, N)"
      ],
      "execution_count": 66,
      "outputs": []
    },
    {
      "cell_type": "code",
      "source": [
        "voulue = thickness + h  # aide au fit\n",
        "thickness = 0.3\n",
        "RRT = 0\n",
        "Epp = []\n",
        "for i, corel_x in tqdm(enumerate(clx)):\n",
        "    Epp.append([])\n",
        "    for j, rugosity in enumerate(h):\n",
        "        voulue = thickness + rugosity\n",
        "        Epp[i].append([])\n",
        "        # génération de la surface\n",
        "        surf = np.real(gen2D(N, rL, rugosity, corel_x))\n",
        "        surfall = surf + np.ones((N, N))*thickness\n",
        "        R = []\n",
        "        for k, lambda_ in enumerate(long_onde):\n",
        "            RRT = 0\n",
        "            RRT = reflectivity(\n",
        "                lambda_, ind_refracrsub[k], ind_refracrfilm[k], ind_refracair[k], surfall)\n",
        "            R.append(np.real(np.mean(RRT)))\n",
        "        Epp[i][j] = float(optimize.curve_fit(reflectivity2, long_onde, R, p0=voulue, method='lm')[0])  # création de la matrice pour le plot          "
      ],
      "metadata": {
        "colab": {
          "base_uri": "https://localhost:8080/"
        },
        "id": "9mBPhNpaxLVp",
        "outputId": "e85b89c7-230a-4a39-b826-0addc58721a2"
      },
      "execution_count": 67,
      "outputs": [
        {
          "output_type": "stream",
          "name": "stderr",
          "text": [
            "32it [00:31,  1.01it/s]\n"
          ]
        }
      ]
    },
    {
      "cell_type": "code",
      "metadata": {
        "colab": {
          "base_uri": "https://localhost:8080/",
          "height": 283
        },
        "id": "gSHhKXBdCl-i",
        "outputId": "55c6a37a-5d32-4b65-d78c-3956fa745f6c"
      },
      "source": [
        "plt.pcolor(h,clx, Epp)\n",
        "plt.colorbar()\n",
        "plt.ylabel('longueur de corrélation')\n",
        "plt.xlabel('h (µm)')\n",
        "plt.show()"
      ],
      "execution_count": 68,
      "outputs": [
        {
          "output_type": "display_data",
          "data": {
            "text/plain": [
              "<Figure size 432x288 with 2 Axes>"
            ],
            "image/png": "[encoded data removed]"
          },
          "metadata": {
            "needs_background": "light"
          }
        }
      ]
    },
    {
      "cell_type": "markdown",
      "metadata": {
        "id": "MLcFIw54Iw7y"
      },
      "source": [
        "# **Analyse inversion en fonction de la longueur de corrélation et de la rugosité avec ajout de la théories des milieux effectifs (EMA)**"
      ]
    },
    {
      "cell_type": "code",
      "metadata": {
        "id": "5_3kZUylqMuY"
      },
      "source": [
        "N = 64  # nombre de points\n",
        "rL = 64             # longueur de la surface\n",
        "h = np.linspace(0.00025/2, 0.025, 32)                # rugosité (rms)\n",
        "clx = np.linspace(1, 64, 32)                       # longueur de corrélation\n",
        "cly = 30\n",
        "x = np.linspace(-rL/2, rL/2, N)  # coordonnée\n",
        "y = np.linspace(-rL/2, rL/2, N)"
      ],
      "execution_count": 69,
      "outputs": []
    },
    {
      "cell_type": "code",
      "metadata": {
        "colab": {
          "base_uri": "https://localhost:8080/"
        },
        "id": "8Ia-_lCmotXL",
        "outputId": "eab9249f-ece1-4c17-8c2d-4c7fdda16308"
      },
      "source": [
        "long_onde = np.linspace(0.4, 1.0, 61)  # spectre de longueur d'onde\n",
        "\n",
        "ind_refracrsub = []\n",
        "ind_refracrfilm = []\n",
        "ind_refracair = []\n",
        "\n",
        "\n",
        "for lambda_ in (long_onde):  # obtenir les indices de réfractions\n",
        "    ind_refracrsub.append(complex(f1(lambda_), f1i(lambda_)))\n",
        "    ind_refracrfilm.append(complex(f2(lambda_), f2i(lambda_)))\n",
        "    ind_refracair.append(n_air(lambda_))\n",
        "\n",
        "ind_ema = ncalema(ind_refracair, ind_refracrfilm, 0.5)\n",
        "\n",
        "thickness = 0.3\n",
        "Epp1 = []\n",
        "Epp2 = []\n",
        "for i, corel_lenght in tqdm(enumerate(clx)):\n",
        "    Epp1.append([])\n",
        "    Epp2.append([])\n",
        "    for j, rugosity in enumerate(h):\n",
        "        voulue = thickness + rugosity\n",
        "        voulue3 = 0.9*voulue\n",
        "        voulue2 = 0.1 * voulue\n",
        "        Epp1[i].append([])\n",
        "        Epp2[i].append([])\n",
        "        # génération de la surface\n",
        "        surf = np.real(gen2D(N, rL, rugosity, corel_lenght))\n",
        "        surfall = surf + np.ones((N, N))*thickness\n",
        "        R = []\n",
        "        for k, lambda_2 in enumerate(long_onde):\n",
        "            RRT = reflectivity(\n",
        "                lambda_2, ind_refracrsub[k], ind_refracrfilm[k], ind_refracair[k], surfall)\n",
        "            R.append(np.real(np.mean(RRT)))\n",
        "        result = optimize.curve_fit(\n",
        "            reflectivityEMA, long_onde, R, p0=(voulue3, voulue2), method='lm')\n",
        "        Epp1[i][j] = result[0][0]\n",
        "        Epp2[i][j] = result[0][1]  # création de la matrice pour le plot"
      ],
      "execution_count": 70,
      "outputs": [
        {
          "output_type": "stream",
          "name": "stderr",
          "text": [
            "32it [00:43,  1.35s/it]\n"
          ]
        }
      ]
    },
    {
      "cell_type": "code",
      "metadata": {
        "id": "ykuwa6I_p-0C",
        "colab": {
          "base_uri": "https://localhost:8080/",
          "height": 279
        },
        "outputId": "45db35c9-aed5-4b79-dd2e-b8a545991f6f"
      },
      "source": [
        "plt.pcolor(h, clx, Epp1)\n",
        "plt.colorbar()\n",
        "plt.ylabel('longueur de corrélation')\n",
        "plt.xlabel('h (µm)')\n",
        "plt.show()"
      ],
      "execution_count": 71,
      "outputs": [
        {
          "output_type": "display_data",
          "data": {
            "text/plain": [
              "<Figure size 432x288 with 2 Axes>"
            ],
            "image/png": "[encoded data removed]"
          },
          "metadata": {
            "needs_background": "light"
          }
        }
      ]
    },
    {
      "cell_type": "code",
      "metadata": {
        "colab": {
          "base_uri": "https://localhost:8080/",
          "height": 279
        },
        "id": "JNs7LiybqwvQ",
        "outputId": "f07c88d6-25d3-4405-ff38-ae77614a40ab"
      },
      "source": [
        "plt.pcolor(h, clx, Epp2)\n",
        "plt.colorbar()\n",
        "plt.ylabel('longueur de corrélation')\n",
        "plt.xlabel('h (µm)')\n",
        "plt.show()"
      ],
      "execution_count": 72,
      "outputs": [
        {
          "output_type": "display_data",
          "data": {
            "text/plain": [
              "<Figure size 432x288 with 2 Axes>"
            ],
            "image/png": "[encoded data removed]"
          },
          "metadata": {
            "needs_background": "light"
          }
        }
      ]
    }
  ]
}
